{
 "cells": [
  {
   "cell_type": "code",
   "execution_count": 1,
   "metadata": {},
   "outputs": [
    {
     "data": {
      "text/plain": [
       "getcycle (generic function with 1 method)"
      ]
     },
     "execution_count": 1,
     "metadata": {},
     "output_type": "execute_result"
    }
   ],
   "source": [
    "using Base, TikzGraphs, Graphs, TikzPictures\n",
    "function Base.iseven(x::Rational)\n",
    "    if iseven(denominator(x))\n",
    "        error(\"Even Denominator\")\n",
    "    end\n",
    "    return iseven(numerator(x))\n",
    "end\n",
    "\n",
    "function c(x)\n",
    "    return iseven(x) ? x//2 : 3*x+1\n",
    "end\n",
    "\n",
    "function collatz(x,n)\n",
    "    v = [x]\n",
    "    for i in 2:n\n",
    "        push!(v,c(v[i-1]))\n",
    "        if v[i] in v[1:i-1]\n",
    "            break\n",
    "        end\n",
    "    end\n",
    "    return v\n",
    "end\n",
    "\n",
    "function graphcollatzes(xs, maxn = 100)\n",
    "    collatzes = collatz.(xs, maxn)\n",
    "    uniques = unique(reduce(vcat, collatzes))\n",
    "    d = Dict(uniques .=> 1:length(uniques))\n",
    "    \n",
    "    g = SimpleDiGraph(0)\n",
    "    add_vertices!(g, length(uniques))\n",
    "    for v in collatzes \n",
    "        for i in 1:length(v)-1\n",
    "            add_edge!(g, d[v[i]], d[v[i+1]])\n",
    "        end\n",
    "    end\n",
    "    return TikzGraphs.plot(g, string.(uniques))\n",
    "end\n",
    "\n",
    "function getcycle(v)\n",
    "    i = findfirst(x -> x== v[end],v)\n",
    "    if i == length(v)\n",
    "        error(\"No cycle found!\")\n",
    "    end\n",
    "    cycle = v[i:end-1]\n",
    "    return circshift(cycle, -(findmin(cycle)[2]-1))\n",
    "end"
   ]
  },
  {
   "cell_type": "code",
   "execution_count": null,
   "metadata": {
    "scrolled": true
   },
   "outputs": [],
   "source": [
    "# generates graphs\n",
    "denom = 21\n",
    "nums = (1:500) .// denom |> filter(x -> denominator(x) == denom)\n",
    "g = graphcollatzes(nums, 1_000_000);\n",
    "save(TikzPictures.SVG(string(denom)*\".svg\"),g)"
   ]
  },
  {
   "cell_type": "code",
   "execution_count": 4,
   "metadata": {},
   "outputs": [
    {
     "data": {
      "text/plain": [
       "9-element Vector{Vector{Rational{Int64}}}:\n",
       " [1//13, 16//13, 8//13, 4//13, 2//13]\n",
       " [131//13, 406//13, 203//13, 622//13, 311//13, 946//13, 473//13, 1432//13, 716//13, 358//13  …  3706//13, 1853//13, 5572//13, 2786//13, 1393//13, 4192//13, 2096//13, 1048//13, 524//13, 262//13]\n",
       " [211//13, 646//13, 323//13, 982//13, 491//13, 1486//13, 743//13, 2242//13, 1121//13, 3376//13, 1688//13, 844//13, 422//13]\n",
       " [259//13, 790//13, 395//13, 1198//13, 599//13, 1810//13, 905//13, 2728//13, 1364//13, 682//13, 341//13, 1036//13, 518//13]\n",
       " [227//13, 694//13, 347//13, 1054//13, 527//13, 1594//13, 797//13, 2404//13, 1202//13, 601//13, 1816//13, 908//13, 454//13]\n",
       " [287//13, 874//13, 437//13, 1324//13, 662//13, 331//13, 1006//13, 503//13, 1522//13, 761//13, 2296//13, 1148//13, 574//13]\n",
       " [251//13, 766//13, 383//13, 1162//13, 581//13, 1756//13, 878//13, 439//13, 1330//13, 665//13, 2008//13, 1004//13, 502//13]\n",
       " [283//13, 862//13, 431//13, 1306//13, 653//13, 1972//13, 986//13, 493//13, 1492//13, 746//13, 373//13, 1132//13, 566//13]\n",
       " [319//13, 970//13, 485//13, 1468//13, 734//13, 367//13, 1114//13, 557//13, 1684//13, 842//13, 421//13, 1276//13, 638//13]"
      ]
     },
     "execution_count": 4,
     "metadata": {},
     "output_type": "execute_result"
    }
   ],
   "source": [
    "# generates cycles\n",
    "denom = 13\n",
    "nums = (1:10_000) .// denom |> filter(x -> denominator(x) == denom)\n",
    "cs = collatz.(nums,10^10)\n",
    "x = getcycle.(cs) |> unique"
   ]
  },
  {
   "cell_type": "code",
   "execution_count": 3,
   "metadata": {},
   "outputs": [
    {
     "name": "stdout",
     "output_type": "stream",
     "text": [
      "denom = 3:\t1\n",
      "denom = 5:\t5\n",
      "denom = 7:\t1\n",
      "denom = 9:\t1\n",
      "denom = 11:\t2\n",
      "denom = 13:\t9\n",
      "denom = 15:\t5\n",
      "denom = 17:\t2\n",
      "denom = 19:\t1\n",
      "denom = 21:\t1\n",
      "denom = 23:\t3\n",
      "denom = 25:\t2\n",
      "denom = 27:\t1\n",
      "denom = 29:\t4\n",
      "denom = 31:\t1\n",
      "denom = 33:\t2\n",
      "denom = 35:\t2\n",
      "denom = 37:\t3\n",
      "denom = 39:\t9\n",
      "denom = 41:\t1\n",
      "denom = 43:\t1\n",
      "denom = 45:\t5\n",
      "denom = 47:\t7\n",
      "denom = 49:\t1\n",
      "denom = 51:\t2\n",
      "denom = 53:\t1\n",
      "denom = 55:\t3\n",
      "denom = 57:\t1\n",
      "denom = 59:\t7\n",
      "denom = 61:\t2\n",
      "denom = 63:\t1\n",
      "denom = 65:\t1\n",
      "denom = 67:\t1\n",
      "denom = 69:\t3\n",
      "denom = 71:\t7\n",
      "denom = 73:\t3\n",
      "denom = 75:\t2\n",
      "denom = 77:\t1\n",
      "denom = 79:\t4\n",
      "denom = 81:\t1\n",
      "denom = 83:\t3\n",
      "denom = 85:\t1\n",
      "denom = 87:\t3\n",
      "denom = 89:\t1\n",
      "denom = 91:\t3\n",
      "denom = 93:\t1\n",
      "denom = 95:\t3\n",
      "denom = 97:\t2\n",
      "denom = 99:\t2\n"
     ]
    }
   ],
   "source": [
    "# generates number of cycles\n",
    "for denom in 3:2:100\n",
    "    nums = (1:10_000) .// denom |> filter(x -> denominator(x) == denom)\n",
    "    cs = collatz.(nums,10^10)\n",
    "    x = getcycle.(cs) |> unique\n",
    "    println(\"denom = \"*string(denom)*\":\\t\"*string(length(x)))\n",
    "end"
   ]
  }
 ],
 "metadata": {
  "kernelspec": {
   "display_name": "Julia 1.9.0",
   "language": "julia",
   "name": "julia-1.9"
  },
  "language_info": {
   "file_extension": ".jl",
   "mimetype": "application/julia",
   "name": "julia",
   "version": "1.9.0"
  }
 },
 "nbformat": 4,
 "nbformat_minor": 4
}
